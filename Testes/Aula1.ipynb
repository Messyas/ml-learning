{
 "cells": [
  {
   "cell_type": "markdown",
   "id": "2533631c-f42c-49e6-98db-c7db48a8a18a",
   "metadata": {},
   "source": [
    "Variaveis"
   ]
  },
  {
   "cell_type": "code",
   "execution_count": 58,
   "id": "334ab831-e307-4ef8-9588-eadc10945ec5",
   "metadata": {},
   "outputs": [
    {
     "data": {
      "text/plain": [
       "str"
      ]
     },
     "execution_count": 58,
     "metadata": {},
     "output_type": "execute_result"
    }
   ],
   "source": [
    "v1 = 'messyas'\n",
    "type(v1) #verifica o tipo de dado armazenado no objeto da variavel"
   ]
  },
  {
   "cell_type": "code",
   "execution_count": 63,
   "id": "a8232d03-78e9-4bac-a593-db15b1dcca19",
   "metadata": {},
   "outputs": [
    {
     "name": "stdout",
     "output_type": "stream",
     "text": [
      "10 5 Teste\n"
     ]
    },
    {
     "data": {
      "text/plain": [
       "(10, 5, 'Teste')"
      ]
     },
     "execution_count": 63,
     "metadata": {},
     "output_type": "execute_result"
    }
   ],
   "source": [
    "A, B, C = 10, 5, 'Teste' # Declaracao contextual\n",
    "print(A, B, C)\n",
    "A, B, C #assim mostra o conteudo de qualquer forma"
   ]
  },
  {
   "cell_type": "code",
   "execution_count": 57,
   "id": "284a0b4d-2cd0-43e3-a267-92cae26c0310",
   "metadata": {},
   "outputs": [
    {
     "name": "stdout",
     "output_type": "stream",
     "text": [
      "Saídas: \n",
      "Soma: 3 \n",
      "Subtração: -1 \n",
      "Multiplicação: 30 \n",
      "Exponenciação: 32\n"
     ]
    }
   ],
   "source": [
    "print('Saídas:', '\\nSoma:',1 + 2,\n",
    "      '\\nSubtração:',3 - 4,\n",
    "      '\\nMultiplicação:',5 * 6, \n",
    "      '\\nExponenciação:',2 ** 5) "
   ]
  },
  {
   "cell_type": "markdown",
   "id": "69cc2fdf-c94b-4f23-935c-9a1c8c1a2cae",
   "metadata": {},
   "source": [
    "Testes basicos:"
   ]
  },
  {
   "cell_type": "code",
   "execution_count": 18,
   "id": "3a6bc21f-ae2a-4e1a-94b9-33a7a4c67ce4",
   "metadata": {},
   "outputs": [
    {
     "name": "stdin",
     "output_type": "stream",
     "text": [
      "Digite o seu nome:  messy\n",
      "Digite a sua idade:  61\n"
     ]
    },
    {
     "name": "stdout",
     "output_type": "stream",
     "text": [
      "O seu nome é  messy\n",
      "A sua idade é  61\n",
      "O individuo nao é obrigado a votar, mas pode\n"
     ]
    }
   ],
   "source": [
    "#input em python:\n",
    "variavel = input(\"Digite o seu nome: \")\n",
    "var_idade= int(input(\"Digite a sua idade: \"))\n",
    "\n",
    "print('O seu nome é ', variavel)\n",
    "print('A sua idade é ', var_idade)\n",
    "\n",
    "if var_idade >= 18 and var_idade <= 60:\n",
    "    print('O individuo é obrigado a votar')\n",
    "elif var_idade >=16 and var_idade < 18 or var_idade > 60:\n",
    "    print('O individuo nao é obrigado a votar, mas pode')\n",
    "else:\n",
    "    print(\"O individuo nao pode votar\")"
   ]
  },
  {
   "cell_type": "code",
   "execution_count": 52,
   "id": "63ba0418-5f7e-4bb7-8b36-d622e8373465",
   "metadata": {},
   "outputs": [
    {
     "name": "stdin",
     "output_type": "stream",
     "text": [
      "Digite um numero:  23\n"
     ]
    },
    {
     "name": "stdout",
     "output_type": "stream",
     "text": [
      "23\n"
     ]
    }
   ],
   "source": [
    "#convertendo inteiro para string\n",
    "int_original = int(input('Digite um numero: '))\n",
    "int_convertido = str(int_original)\n",
    "print(int_convertido)"
   ]
  },
  {
   "cell_type": "code",
   "execution_count": 49,
   "id": "46de8fb7-c3fe-422a-8e36-307759f10c83",
   "metadata": {},
   "outputs": [
    {
     "name": "stdout",
     "output_type": "stream",
     "text": [
      "0.8474337369372327\n",
      "84\n",
      "Número inteiro aleatório entre 1 e 10 (10 não incluído): 2\n",
      "18\n",
      "73\n"
     ]
    }
   ],
   "source": [
    "#Gerando numeros aleatoriamente\n",
    "\n",
    "import random #lib pra gerar numeros aleatorios de 0 a 1\n",
    "\n",
    "numero_aleatorio = random.random()\n",
    "print(numero_aleatorio)\n",
    "\n",
    "numero_int = int(numero_aleatorio * 100)\n",
    "print(numero_int)\n",
    "\n",
    "#gerando numeros entre intervalos aleatorios\n",
    "\n",
    "import random\n",
    "\n",
    "# Gera um número inteiro aleatório entre 1 e 10 (1 incluído, 10 excluído)\n",
    "numero_inteiro = random.randrange(1, 11)  # O limite superior é exclusivo\n",
    "print(\"Número inteiro aleatório entre 1 e 10 (10 não incluído):\", numero_inteiro)\n",
    "\n",
    "#Se usar a funcao seed é possivel preservar os dados gerados e sempre obter o mesmo resultado\n",
    "\n",
    "# Define a seed\n",
    "random.seed(1) # o numero da semente nao limita nada, basicamente o numero passado gera um resultado padrao, é como uma especie de chave.\n",
    "\n",
    "# Gera alguns números aleatórios\n",
    "print(random.randint(1, 100))  # Sempre gera o mesmo número\n",
    "print(random.randint(1, 100))  # Sempre gera o mesmo número"
   ]
  },
  {
   "cell_type": "code",
   "execution_count": 66,
   "id": "9ebf76d4-f28e-4534-892a-85cd8023ec5e",
   "metadata": {
    "scrolled": true
   },
   "outputs": [
    {
     "name": "stdout",
     "output_type": "stream",
     "text": [
      "Valor de x:  1  Valor de s:  0\n",
      "Valor de x:  2  Valor de s:  1\n",
      "Valor de x:  3  Valor de s:  3\n",
      "Valor de x:  4  Valor de s:  6\n",
      "Valor de x:  5  Valor de s:  10\n",
      "Valor de x:  6  Valor de s:  15\n",
      "Valor de x:  7  Valor de s:  21\n",
      "Valor de x:  8  Valor de s:  28\n",
      "Valor de x:  9  Valor de s:  36\n",
      "Valor de x:  10  Valor de s:  45\n",
      "Valor de x:  11  Valor de s:  55\n",
      "Valor de x:  12  Valor de s:  66\n",
      "Valor de x:  13  Valor de s:  78\n",
      "Valor de x:  14  Valor de s:  91\n",
      "Valor de x:  15  Valor de s:  105\n",
      "Valor de x:  16  Valor de s:  120\n",
      "Valor de x:  17  Valor de s:  136\n",
      "Valor de x:  18  Valor de s:  153\n",
      "Valor de x:  19  Valor de s:  171\n",
      "Valor de x:  20  Valor de s:  190\n",
      "Valor de x:  21  Valor de s:  210\n",
      "Valor de x:  22  Valor de s:  231\n",
      "Valor de x:  23  Valor de s:  253\n",
      "Valor de x:  24  Valor de s:  276\n",
      "Valor de x:  25  Valor de s:  300\n",
      "/nFim de Execucao...\n"
     ]
    }
   ],
   "source": [
    "x = 0\n",
    "s = 0\n",
    "\n",
    "while x != 25:\n",
    "    s = s + x\n",
    "    x = x + 1\n",
    "    print('Valor de x: ', x, ' Valor de s: ', s)\n",
    "#Cuidado com os blocos de codigo Ok\n",
    "print('/nFim de Execucao...')"
   ]
  },
  {
   "cell_type": "code",
   "execution_count": 84,
   "id": "66f0717f-248c-4903-b1e7-e248103c17a8",
   "metadata": {},
   "outputs": [
    {
     "name": "stdout",
     "output_type": "stream",
     "text": [
      "0\n",
      "1\n",
      "1\n",
      "2\n",
      "3\n",
      "5\n",
      "8\n",
      "13\n"
     ]
    }
   ],
   "source": [
    "#Funcao Fibonacci\n",
    "def fibonacci(n):\n",
    "    a, b = 0, 1\n",
    "    x = 0\n",
    "    while x < n:\n",
    "        print(a)\n",
    "        a, b = b, a + b # o valor de a recebe o de b (que no inicio é 1) e b recebe o valor da ponta que é a soma so atual com o anterior (B nesse caso é o atual)\n",
    "        x += 1\n",
    "fibonacci(8)"
   ]
  },
  {
   "cell_type": "markdown",
   "id": "2de565fe-f591-4c56-8d8b-57d0e0a63e73",
   "metadata": {},
   "source": [
    "## Unpacking"
   ]
  },
  {
   "cell_type": "markdown",
   "id": "6296c837-32b6-42cf-a62c-ea86635ed2ea",
   "metadata": {},
   "source": [
    "- Unpacking é um termo usado em Python que se refere à prática de desempacotar valores de uma coleção (como listas, tuplas ou outros iteráveis) em variáveis individuais. Essa técnica é bastante útil para atribuir múltiplos valores de forma concisa e legível."
   ]
  },
  {
   "cell_type": "code",
   "execution_count": 86,
   "id": "0e9faeb4-0ced-450b-8e6d-7ae0f01bedf7",
   "metadata": {},
   "outputs": [],
   "source": [
    "# Criando uma tupla\n",
    "coordenadas = (10, 20)"
   ]
  },
  {
   "cell_type": "code",
   "execution_count": 87,
   "id": "4b611313-8dba-46d0-ade8-63a974f73041",
   "metadata": {},
   "outputs": [
    {
     "name": "stdout",
     "output_type": "stream",
     "text": [
      "x: 10\n",
      "y: 20\n"
     ]
    }
   ],
   "source": [
    "# Desempacotando a tupla em variáveis\n",
    "x, y = coordenadas\n",
    "\n",
    "print(\"x:\", x)  # x: 10\n",
    "print(\"y:\", y)  # y: 20"
   ]
  },
  {
   "cell_type": "markdown",
   "id": "ee3c55d4-9d1b-4913-8dcd-faf6043f8542",
   "metadata": {},
   "source": [
    "- O unpacking também pode ser usado ao retornar múltiplos valores de uma função. Por exemplo:"
   ]
  },
  {
   "cell_type": "code",
   "execution_count": 88,
   "id": "dda2d8d2-a3b5-45de-af75-ad6a05e44771",
   "metadata": {},
   "outputs": [
    {
     "name": "stdout",
     "output_type": "stream",
     "text": [
      "Nome: Alice\n",
      "Idade: 30\n"
     ]
    }
   ],
   "source": [
    "def obter_nome_e_idade():\n",
    "    return \"Alice\", 30\n",
    "\n",
    "# Desempacotando o retorno da função\n",
    "nome, idade = obter_nome_e_idade()\n",
    "\n",
    "print(\"Nome:\", nome)  # Nome: Alice\n",
    "print(\"Idade:\", idade)  # Idade: 30"
   ]
  },
  {
   "cell_type": "markdown",
   "id": "5b6479f6-585d-45ce-8949-a36abbcdc9c3",
   "metadata": {},
   "source": [
    "#### Unpacking em Estruturas Compostas\n",
    "- Se você tiver uma estrutura de dados mais complexa, como listas aninhadas ou tuplas, o unpacking ainda pode ser utilizado:"
   ]
  },
  {
   "cell_type": "code",
   "execution_count": 91,
   "id": "a87874f5-8782-4d8b-9cce-e9df9095f3c8",
   "metadata": {},
   "outputs": [
    {
     "name": "stdout",
     "output_type": "stream",
     "text": [
      "ID: 1, Nome: Alice\n",
      "ID: 2, Nome: Bob\n",
      "ID: 3, Nome: Charlie\n"
     ]
    }
   ],
   "source": [
    "dados = [(1, 'Alice'), (2, 'Bob'), (3, 'Charlie')]\n",
    "\n",
    "for id, nome in dados:\n",
    "    print(f\"ID: {id}, Nome: {nome}\")\n"
   ]
  },
  {
   "cell_type": "markdown",
   "id": "492260f5-a022-40b9-9127-d8bd8d4647b0",
   "metadata": {},
   "source": [
    "#### Unpacking com o Operador *\n",
    "- O operador * também pode ser usado para desempacotar partes de uma coleção. Por exemplo:"
   ]
  },
  {
   "cell_type": "code",
   "execution_count": 93,
   "id": "4c324b35-de49-40f8-ac83-2a9b7257ebb3",
   "metadata": {},
   "outputs": [
    {
     "name": "stdout",
     "output_type": "stream",
     "text": [
      "a: 1\n",
      "b: 2\n",
      "resto: [3, 4, 5]\n"
     ]
    }
   ],
   "source": [
    "numeros = [1, 2, 3, 4, 5]\n",
    "\n",
    "# Desempacotando os primeiros dois elementos e guardando o resto em uma lista\n",
    "a, b, *resto = numeros\n",
    "\n",
    "print(\"a:\", a)  # a: 1\n",
    "print(\"b:\", b)  # b: 2\n",
    "print(\"resto:\", resto)  # resto: [3, 4, 5]"
   ]
  },
  {
   "cell_type": "code",
   "execution_count": null,
   "id": "bda01099-88b2-4562-a2de-7998372a6e6f",
   "metadata": {},
   "outputs": [],
   "source": []
  }
 ],
 "metadata": {
  "kernelspec": {
   "display_name": "Python 3 (ipykernel)",
   "language": "python",
   "name": "python3"
  },
  "language_info": {
   "codemirror_mode": {
    "name": "ipython",
    "version": 3
   },
   "file_extension": ".py",
   "mimetype": "text/x-python",
   "name": "python",
   "nbconvert_exporter": "python",
   "pygments_lexer": "ipython3",
   "version": "3.9.19"
  }
 },
 "nbformat": 4,
 "nbformat_minor": 5
}
